{
 "cells": [
  {
   "cell_type": "code",
   "execution_count": null,
   "metadata": {
    "scrolled": false
   },
   "outputs": [],
   "source": [
    "%matplotlib notebook\n",
    "\n",
    "import os\n",
    "import time\n",
    "import numpy as np\n",
    "import matplotlib.pyplot as plt\n",
    "import matplotlib\n",
    "from scipy.spatial import distance_matrix\n",
    "\n",
    "from tldist.database import get_database\n",
    "from tldist.similarity.similarity import Similarity\n",
    "from tldist.data import Data\n",
    "from tldist.fingerprint import Fingerprint\n",
    "from tldist.similarity.display import SimilarityDisplay\n",
    "\n",
    "from astropy.coordinates import SkyCoord\n",
    "from astropy import units\n",
    "       \n",
    "db = get_database('blitzdb', 'basic_notebook.db')\n",
    "similarities = db.find('similarity')\n",
    "similarity_tsne = Similarity.similarity_factory(similarities[0])\n",
    "\n",
    "simdisp = SimilarityDisplay(similarity_tsne, db)"
   ]
  },
  {
   "cell_type": "code",
   "execution_count": null,
   "metadata": {},
   "outputs": [],
   "source": []
  }
 ],
 "metadata": {
  "kernelspec": {
   "display_name": "Python 3",
   "language": "python",
   "name": "python3"
  },
  "language_info": {
   "codemirror_mode": {
    "name": "ipython",
    "version": 3
   },
   "file_extension": ".py",
   "mimetype": "text/x-python",
   "name": "python",
   "nbconvert_exporter": "python",
   "pygments_lexer": "ipython3",
   "version": "3.6.3"
  }
 },
 "nbformat": 4,
 "nbformat_minor": 2
}
