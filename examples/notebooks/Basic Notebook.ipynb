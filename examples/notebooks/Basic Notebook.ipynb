{
 "cells": [
  {
   "cell_type": "markdown",
   "metadata": {},
   "source": [
    "# Transfer Learning Hubble Image Similarity Processing"
   ]
  },
  {
   "cell_type": "code",
   "execution_count": null,
   "metadata": {},
   "outputs": [],
   "source": [
    "import pickle\n",
    "import os\n",
    "import shutil\n",
    "\n",
    "from tldist.fingerprint.processing import FingerprintCalculatorResnet\n",
    "from tldist.fingerprint.processing import calculate as fingerprint_calculate\n",
    "from tldist.similarity.similarity import calculate as similarity_calculate\n",
    "from tldist.data import Data\n",
    "from tldist.cutout.generators import FullImageCutoutGenerator\n",
    "from tldist.database import get_database\n",
    "\n",
    "db = get_database('blitzdb', 'basic_notebook_100.db')"
   ]
  },
  {
   "cell_type": "markdown",
   "metadata": {},
   "source": [
    "## Load the pre-massaged data"
   ]
  },
  {
   "cell_type": "markdown",
   "metadata": {},
   "source": [
    "The pickle file contains a list of dictionaries. Each dictionary represents an image and contains info about the file location, RA/DEC and meta data (observation information)."
   ]
  },
  {
   "cell_type": "code",
   "execution_count": null,
   "metadata": {},
   "outputs": [],
   "source": [
    "# Load the data\n",
    "processing_dict = pickle.load(open('../data/hubble_acs.pck', 'rb'))"
   ]
  },
  {
   "cell_type": "markdown",
   "metadata": {},
   "source": [
    "## Save the Image Data"
   ]
  },
  {
   "cell_type": "markdown",
   "metadata": {},
   "source": [
    "Each data element will be saved to a Data object in order to confirm input is correct and then save to a database for later retrival."
   ]
  },
  {
   "cell_type": "code",
   "execution_count": null,
   "metadata": {},
   "outputs": [],
   "source": [
    "data = []\n",
    "for fileinfo in processing_dict[:100]:\n",
    "    im = Data(location=fileinfo['location'], radec=fileinfo['radec'], meta=fileinfo['meta'])\n",
    "    data.append(im)\n",
    "    db.save('data', im.save())"
   ]
  },
  {
   "cell_type": "markdown",
   "metadata": {},
   "source": [
    "## Create the Cutouts"
   ]
  },
  {
   "cell_type": "markdown",
   "metadata": {},
   "source": [
    "Cutouts of the images will be made. The cutouts in this case represent a 224x224 cutout of the data and these cutouts will be stored in the database too. The cutouts could have other types of image processing applied to the underlying data."
   ]
  },
  {
   "cell_type": "code",
   "execution_count": null,
   "metadata": {},
   "outputs": [],
   "source": [
    "full_cutout = FullImageCutoutGenerator(output_size=(224, 224))"
   ]
  },
  {
   "cell_type": "code",
   "execution_count": null,
   "metadata": {},
   "outputs": [],
   "source": [
    "cutouts = []\n",
    "for datum in data:\n",
    "    cutout = full_cutout.create_cutouts(datum)\n",
    "    db.save('cutout', cutout.save())\n",
    "    cutouts.append(cutout)"
   ]
  },
  {
   "cell_type": "markdown",
   "metadata": {},
   "source": [
    "## Compute the Fingerprints"
   ]
  },
  {
   "cell_type": "markdown",
   "metadata": {},
   "source": [
    "Compute the fingerprints from each of the cutouts based on, in this case, the Resnet pre-trained network.  The fingerprints are stored in the database too.  The Fingerprint calculator will calculate based on the Resnet, VGG16, VGG19, InceptionV3 or InceptionResnetV2 pre-trained networks."
   ]
  },
  {
   "cell_type": "code",
   "execution_count": null,
   "metadata": {},
   "outputs": [],
   "source": [
    "# This will take a minute as it is loading the pre-trained network\n",
    "fresnet = FingerprintCalculatorResnet()\n",
    "fc_save = fresnet.save()"
   ]
  },
  {
   "cell_type": "code",
   "execution_count": null,
   "metadata": {},
   "outputs": [],
   "source": [
    "fingerprints = fingerprint_calculate(cutouts, fc_save)\n",
    "[db.save('fingerprint', x.save()) for x in fingerprints]"
   ]
  },
  {
   "cell_type": "markdown",
   "metadata": {},
   "source": [
    "## Compute the Similarity"
   ]
  },
  {
   "cell_type": "markdown",
   "metadata": {},
   "source": [
    "Once the fingerprints are calculated, next the similarity is calculated. In this case the [tSNE algorithm](https://lvdmaaten.github.io/tsne/) is used which is a data reduction algorithm and enables determining similar cutouts given one cutout."
   ]
  },
  {
   "cell_type": "code",
   "execution_count": null,
   "metadata": {},
   "outputs": [],
   "source": [
    "similarity_tsne = similarity_calculate(fingerprints, 'tsne')\n",
    "db.save('similarity', similarity_tsne.save())"
   ]
  }
 ],
 "metadata": {
  "kernelspec": {
   "display_name": "Python 3",
   "language": "python",
   "name": "python3"
  },
  "language_info": {
   "codemirror_mode": {
    "name": "ipython",
    "version": 3
   },
   "file_extension": ".py",
   "mimetype": "text/x-python",
   "name": "python",
   "nbconvert_exporter": "python",
   "pygments_lexer": "ipython3",
   "version": "3.6.3"
  }
 },
 "nbformat": 4,
 "nbformat_minor": 2
}
